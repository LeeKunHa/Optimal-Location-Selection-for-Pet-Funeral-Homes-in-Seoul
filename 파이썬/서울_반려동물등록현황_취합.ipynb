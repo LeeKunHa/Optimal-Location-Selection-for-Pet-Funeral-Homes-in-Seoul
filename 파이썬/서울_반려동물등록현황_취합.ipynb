{
 "cells": [
  {
   "cell_type": "code",
   "execution_count": 4,
   "id": "ca17cf35",
   "metadata": {},
   "outputs": [
    {
     "name": "stdout",
     "output_type": "stream",
     "text": [
      "['서울특별시-강동구_반려동물등록현황.csv', '서울특별시_강남구_반려동물등록현황.csv', '서울특별시_강북구_반려동물등록현황.csv', '서울특별시_강서구_반려동물등록현황.csv', '서울특별시_관악구_반려동물등록현황.csv', '서울특별시_광진구_반려동물등록현황.csv', '서울특별시_금천구_반려동물등록현황.csv', '서울특별시_도봉구_반려동물등록현황.csv', '서울특별시_동대문구_반려동물등록현황.csv', '서울특별시_동작구_반려동물등록현황.csv', '서울특별시_마포구_반려동물등록현황.csv', '서울특별시_성동구_반려동물등록현황.csv', '서울특별시_성북구_반려동물등록현황.csv', '서울특별시_송파구_반려동물등록현황.csv', '서울특별시_양천구_반려동물등록현황.csv', '서울특별시_영등포구_반려동물등록현황.csv', '서울특별시_용산구_반려동물등록현황.csv', '서울특별시_은평구_반려동물등록현황.csv', '서울특별시_종로구_반려동물등록현황.csv', '서울특별시_중구_반려동물등록현황.csv', '서울특별시_중랑구_반려동물등록현황.csv']\n"
     ]
    }
   ],
   "source": [
    "import pandas as pd\n",
    "import numpy as np\n",
    "import os\n",
    "\n",
    "# 파일들이 있는 폴더명으로 폴더내 파일 목록 확인\n",
    "forders = os.listdir('반려동물등록현황')\n",
    "print(forders)"
   ]
  },
  {
   "cell_type": "code",
   "execution_count": 6,
   "id": "3265ccd0",
   "metadata": {},
   "outputs": [],
   "source": [
    "df_all = pd.DataFrame()\n",
    "for i in range(0,len(forders)):\n",
    "    if forders[i].split('.')[1] == 'csv':\n",
    "        file = '반려동물등록현황/'+forders[i]\n",
    "        df= pd.read_csv(file,encoding='cp949') \n",
    "        df_all = pd.concat([df_all, df])"
   ]
  },
  {
   "cell_type": "code",
   "execution_count": 7,
   "id": "642903ba",
   "metadata": {},
   "outputs": [
    {
     "data": {
      "text/html": [
       "<div>\n",
       "<style scoped>\n",
       "    .dataframe tbody tr th:only-of-type {\n",
       "        vertical-align: middle;\n",
       "    }\n",
       "\n",
       "    .dataframe tbody tr th {\n",
       "        vertical-align: top;\n",
       "    }\n",
       "\n",
       "    .dataframe thead th {\n",
       "        text-align: right;\n",
       "    }\n",
       "</style>\n",
       "<table border=\"1\" class=\"dataframe\">\n",
       "  <thead>\n",
       "    <tr style=\"text-align: right;\">\n",
       "      <th></th>\n",
       "      <th>자치구명</th>\n",
       "      <th>법정동명</th>\n",
       "      <th>등록수</th>\n",
       "    </tr>\n",
       "  </thead>\n",
       "  <tbody>\n",
       "    <tr>\n",
       "      <th>0</th>\n",
       "      <td>강동구</td>\n",
       "      <td>길동</td>\n",
       "      <td>2019</td>\n",
       "    </tr>\n",
       "    <tr>\n",
       "      <th>1</th>\n",
       "      <td>강동구</td>\n",
       "      <td>강일동</td>\n",
       "      <td>814</td>\n",
       "    </tr>\n",
       "    <tr>\n",
       "      <th>2</th>\n",
       "      <td>강동구</td>\n",
       "      <td>고덕동</td>\n",
       "      <td>1299</td>\n",
       "    </tr>\n",
       "    <tr>\n",
       "      <th>3</th>\n",
       "      <td>강동구</td>\n",
       "      <td>둔촌동</td>\n",
       "      <td>1524</td>\n",
       "    </tr>\n",
       "    <tr>\n",
       "      <th>4</th>\n",
       "      <td>강동구</td>\n",
       "      <td>명일동</td>\n",
       "      <td>1534</td>\n",
       "    </tr>\n",
       "    <tr>\n",
       "      <th>...</th>\n",
       "      <td>...</td>\n",
       "      <td>...</td>\n",
       "      <td>...</td>\n",
       "    </tr>\n",
       "    <tr>\n",
       "      <th>1</th>\n",
       "      <td>중랑구</td>\n",
       "      <td>상봉동</td>\n",
       "      <td>2219</td>\n",
       "    </tr>\n",
       "    <tr>\n",
       "      <th>2</th>\n",
       "      <td>중랑구</td>\n",
       "      <td>중화동</td>\n",
       "      <td>2423</td>\n",
       "    </tr>\n",
       "    <tr>\n",
       "      <th>3</th>\n",
       "      <td>중랑구</td>\n",
       "      <td>묵동</td>\n",
       "      <td>2441</td>\n",
       "    </tr>\n",
       "    <tr>\n",
       "      <th>4</th>\n",
       "      <td>중랑구</td>\n",
       "      <td>망우동</td>\n",
       "      <td>2340</td>\n",
       "    </tr>\n",
       "    <tr>\n",
       "      <th>5</th>\n",
       "      <td>중랑구</td>\n",
       "      <td>신내동</td>\n",
       "      <td>2576</td>\n",
       "    </tr>\n",
       "  </tbody>\n",
       "</table>\n",
       "<p>400 rows × 3 columns</p>\n",
       "</div>"
      ],
      "text/plain": [
       "   자치구명 법정동명   등록수\n",
       "0   강동구   길동  2019\n",
       "1   강동구  강일동   814\n",
       "2   강동구  고덕동  1299\n",
       "3   강동구  둔촌동  1524\n",
       "4   강동구  명일동  1534\n",
       "..  ...  ...   ...\n",
       "1   중랑구  상봉동  2219\n",
       "2   중랑구  중화동  2423\n",
       "3   중랑구   묵동  2441\n",
       "4   중랑구  망우동  2340\n",
       "5   중랑구  신내동  2576\n",
       "\n",
       "[400 rows x 3 columns]"
      ]
     },
     "execution_count": 7,
     "metadata": {},
     "output_type": "execute_result"
    }
   ],
   "source": [
    "df_all"
   ]
  },
  {
   "cell_type": "code",
   "execution_count": 10,
   "id": "a04ba82e",
   "metadata": {},
   "outputs": [],
   "source": [
    "df_all.to_csv(\"서울특볈시_반려동물등록현황.csv\",encoding='cp949', index = False)"
   ]
  }
 ],
 "metadata": {
  "kernelspec": {
   "display_name": "Python 3 (ipykernel)",
   "language": "python",
   "name": "python3"
  },
  "language_info": {
   "codemirror_mode": {
    "name": "ipython",
    "version": 3
   },
   "file_extension": ".py",
   "mimetype": "text/x-python",
   "name": "python",
   "nbconvert_exporter": "python",
   "pygments_lexer": "ipython3",
   "version": "3.9.12"
  }
 },
 "nbformat": 4,
 "nbformat_minor": 5
}
